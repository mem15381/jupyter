{
 "cells": [
  {
   "cell_type": "code",
   "execution_count": 3,
   "id": "2c657914",
   "metadata": {},
   "outputs": [
    {
     "name": "stdout",
     "output_type": "stream",
     "text": [
      "Paragraphs: 1\n",
      "Sentences: 1\n",
      "Passages: 1\n"
     ]
    }
   ],
   "source": [
    "from IPython import display\n",
    "\n",
    "import nltk\n",
    "\n",
    "import numpy as np\n",
    "import pandas as pd\n",
    "\n",
    "import hazm\n",
    "import requests\n",
    "import time\n",
    "\n",
    "import torch\n",
    "from sentence_transformers import models, SentenceTransformer, util\n",
    "from sentence_transformers import CrossEncoder\n",
    "\n",
    "document = 'های بازرگانی از قبیل صادرات و واردات، خرید و فروش و توزیع کالاهای مجاز بازرگانی، بازاریابی، اخذ تسهیلات از بانکهای دولتی و خصوصی و یا شرکتهای سرمایه گذاری ایرانی و خارجی صرفا جهت تحقق اهداف شرکت، شرکت در مناقصات و مزایدات دولتی و خصوصی، اخذ و اعطای نمایندگی از شرکتهای دولتی و خصوصی و خارجی و داخلی، مشارکت با شرکتها و موسسات و سازمانها اعم از دولتی و خصوصی در کلیه زمینه های اقتصادی و بازرگانی در داخل و خارج کشور.درصورت لزوم پس از اخذ مجوزهای لازم از مراجع ذیربط ـ ثبت موضوع به تنهایی مجوز فعالیت نمی باشد '\n",
    "\n",
    "paragraphs = []\n",
    "for paragraph in document.replace(\"\\r\\n\", \"\\n\").split(\"\\n\\n\"):\n",
    "    if len(paragraph.strip()) > 0:\n",
    "        sentences = hazm.sent_tokenize(paragraph.strip())\n",
    "        paragraphs.append(sentences)\n",
    "\n",
    "window_size = 3\n",
    "passages = []\n",
    "for paragraph in paragraphs:\n",
    "    for start_idx in range(0, len(paragraph), window_size):\n",
    "        end_idx = min(start_idx + window_size, len(paragraph))\n",
    "        passages.append(\" \".join(paragraph[start_idx:end_idx]))\n",
    "\n",
    "\n",
    "print(f\"Paragraphs: {len(paragraphs)}\")\n",
    "print(f\"Sentences: {sum([len(p) for p in paragraphs])}\")\n",
    "print(f\"Passages: {len(passages)}\")"
   ]
  },
  {
   "cell_type": "code",
   "execution_count": 8,
   "id": "a8f0b290",
   "metadata": {},
   "outputs": [
    {
     "data": {
      "text/plain": [
       "'[CLS] های بازرگانی از قبیل صادرات و واردات ، خرید و فروش و توزیع کالاهای مجاز بازرگانی ، بازاریابی ، اخذ تسهیلات از بانکهای دولتی و خصوصی و یا شرکتهای سرمایه گذاری ایرانی و خارجی صرفا جهت تحقق اهداف شرکت ، شرکت در مناقصات و مزایدات دولتی و خصوصی ، اخذ و اعطای نمایندگی از شرکتهای دولتی و خصوصی و خارجی و داخلی ، مشارکت با شرکتها و موسسات و سازمانها اعم از دولتی و خصوصی در کلیه زمینه های اقتصادی و بازرگانی در داخل و خارج کشور. درصورت لزوم پس از اخذ مجوزهای لازم از مراجع ذیربط ـ ثبت موضوع به تنهایی مجوز فعالیت نمی باشد [SEP]'"
      ]
     },
     "execution_count": 8,
     "metadata": {},
     "output_type": "execute_result"
    }
   ],
   "source": [
    "from transformers import AutoTokenizer\n",
    "tokenizer = AutoTokenizer.from_pretrained(\"distilbert-base-uncased\")\n",
    "txt = \"های بازرگانی از قبیل صادرات و واردات، خرید و فروش و توزیع کالاهای مجاز بازرگانی، بازاریابی، اخذ تسهیلات از بانکهای دولتی و خصوصی و یا شرکتهای سرمایه گذاری ایرانی و خارجی صرفا جهت تحقق اهداف شرکت، شرکت در مناقصات و مزایدات دولتی و خصوصی، اخذ و اعطای نمایندگی از شرکتهای دولتی و خصوصی و خارجی و داخلی، مشارکت با شرکتها و موسسات و سازمانها اعم از دولتی و خصوصی در کلیه زمینه های اقتصادی و بازرگانی در داخل و خارج کشور.درصورت لزوم پس از اخذ مجوزهای لازم از مراجع ذیربط ـ ثبت موضوع به تنهایی مجوز فعالیت نمی باشد\"\n",
    "txt_enc = tokenizer(txt)\n",
    "\n",
    "tokenizer.convert_ids_to_tokens(txt_enc.input_ids) # returns ['[CLS]', 'the', 'hi', '##ggs', 'field', 'gives', 'mass', 'to', 'sub', '##ato', '##mic', 'particles', '[SEP]']\n",
    "tokenizer.decode(txt_enc.input_ids) # returns \"[CLS] the higgs field gives mass to subatomic particles [SEP]\""
   ]
  },
  {
   "cell_type": "code",
   "execution_count": 9,
   "id": "80f10c44",
   "metadata": {},
   "outputs": [
    {
     "data": {
      "text/plain": [
       "'[CLS] های بازرگانی از قبیل صادرات و واردات ، خرید و فروش و توزیع کالاهای مجاز بازرگانی ، بازاریابی ، اخذ تسهیلات از بانکهای دولتی و خصوصی و یا شرکتهای سرمایه گذاری ایرانی و خارجی صرفا جهت تحقق اهداف شرکت ، شرکت در مناقصات و مزایدات دولتی و خصوصی ، اخذ و اعطای نمایندگی از شرکتهای دولتی و خصوصی و خارجی و داخلی ، مشارکت با شرکتها و موسسات و سازمانها اعم از دولتی و خصوصی در کلیه زمینه های اقتصادی و بازرگانی در داخل و خارج کشور. درصورت لزوم پس از اخذ مجوزهای لازم از مراجع ذیربط ـ ثبت موضوع به تنهایی مجوز فعالیت نمی باشد [SEP]'"
      ]
     },
     "execution_count": 9,
     "metadata": {},
     "output_type": "execute_result"
    }
   ],
   "source": [
    "from transformers import AutoTokenizer\n",
    "tokenizer = AutoTokenizer.from_pretrained(\"sentence-transformers/all-MiniLM-L12-v2\")\n",
    "txt = \"های بازرگانی از قبیل صادرات و واردات، خرید و فروش و توزیع کالاهای مجاز بازرگانی، بازاریابی، اخذ تسهیلات از بانکهای دولتی و خصوصی و یا شرکتهای سرمایه گذاری ایرانی و خارجی صرفا جهت تحقق اهداف شرکت، شرکت در مناقصات و مزایدات دولتی و خصوصی، اخذ و اعطای نمایندگی از شرکتهای دولتی و خصوصی و خارجی و داخلی، مشارکت با شرکتها و موسسات و سازمانها اعم از دولتی و خصوصی در کلیه زمینه های اقتصادی و بازرگانی در داخل و خارج کشور.درصورت لزوم پس از اخذ مجوزهای لازم از مراجع ذیربط ـ ثبت موضوع به تنهایی مجوز فعالیت نمی باشد\"\n",
    "txt_enc = tokenizer(txt)\n",
    "\n",
    "tokenizer.convert_ids_to_tokens(txt_enc.input_ids) # returns ['[CLS]', 'the', 'hi', '##ggs', 'field', 'gives', 'mass', 'to', 'sub', '##ato', '##mic', 'particles', '[SEP]']\n",
    "tokenizer.decode(txt_enc.input_ids) # returns \"[CLS] the higgs field gives mass to subatomic particles [SEP]\""
   ]
  },
  {
   "cell_type": "code",
   "execution_count": null,
   "id": "c9621fac",
   "metadata": {},
   "outputs": [],
   "source": []
  }
 ],
 "metadata": {
  "kernelspec": {
   "display_name": "Python 3 (ipykernel)",
   "language": "python",
   "name": "python3"
  },
  "language_info": {
   "codemirror_mode": {
    "name": "ipython",
    "version": 3
   },
   "file_extension": ".py",
   "mimetype": "text/x-python",
   "name": "python",
   "nbconvert_exporter": "python",
   "pygments_lexer": "ipython3",
   "version": "3.9.12"
  }
 },
 "nbformat": 4,
 "nbformat_minor": 5
}
