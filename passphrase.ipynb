{
 "cells": [
  {
   "cell_type": "code",
   "execution_count": 1,
   "id": "32446fd0",
   "metadata": {},
   "outputs": [],
   "source": [
    "from sentence_transformers import SentenceTransformer, util\n",
    "\n",
    "model = SentenceTransformer('paraphrase-multilingual-MiniLM-L12-v2')"
   ]
  },
  {
   "cell_type": "code",
   "execution_count": 2,
   "id": "cb9ba498",
   "metadata": {},
   "outputs": [],
   "source": [
    "# Single list of sentences - Possible tens of thousands of sentences\n",
    "with open('restult_output_new.txt', encoding=\"UTF-8\") as f:\n",
    "    sentences = f.read().splitlines()"
   ]
  },
  {
   "cell_type": "code",
   "execution_count": 3,
   "id": "ed826e09",
   "metadata": {},
   "outputs": [
    {
     "name": "stdout",
     "output_type": "stream",
     "text": [
      "صادرات و واردات انواع مواد غذایی \t\t صادرات و واردات انواع مواد غذایی \t\t Score: 1.0000\n",
      "اخذ تسهیلات ریالی و ارزی از بانکها و موسسات مالی و اعتباری \t\t اخذ تسهیلات ریالی و ارزی از بانکها و موسسات مالی و اعتباری \t\t Score: 1.0000\n",
      "پل سازی \t\t پل سازی \t\t Score: 1.0000\n",
      "پل سازی \t\t پل سازی \t\t Score: 1.0000\n",
      "پل سازی \t\t پل سازی \t\t Score: 1.0000\n",
      "پل سازی \t\t پل سازی \t\t Score: 1.0000\n",
      "پل سازی \t\t پل سازی \t\t Score: 1.0000\n",
      "پل سازی \t\t پل سازی \t\t Score: 1.0000\n",
      "پل سازی \t\t پل سازی \t\t Score: 1.0000\n",
      "پل سازی \t\t پل سازی \t\t Score: 1.0000\n"
     ]
    }
   ],
   "source": [
    "paraphrases = util.paraphrase_mining(model, sentences)\n",
    "\n",
    "for paraphrase in paraphrases[0:10]:\n",
    "    score, i, j = paraphrase\n",
    "    print(\"{} \\t\\t {} \\t\\t Score: {:.4f}\".format(sentences[i], sentences[j], score))"
   ]
  },
  {
   "cell_type": "code",
   "execution_count": null,
   "id": "56b560e5",
   "metadata": {},
   "outputs": [],
   "source": []
  }
 ],
 "metadata": {
  "kernelspec": {
   "display_name": "Python 3 (ipykernel)",
   "language": "python",
   "name": "python3"
  },
  "language_info": {
   "codemirror_mode": {
    "name": "ipython",
    "version": 3
   },
   "file_extension": ".py",
   "mimetype": "text/x-python",
   "name": "python",
   "nbconvert_exporter": "python",
   "pygments_lexer": "ipython3",
   "version": "3.9.12"
  }
 },
 "nbformat": 4,
 "nbformat_minor": 5
}
