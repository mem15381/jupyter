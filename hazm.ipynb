{
 "cells": [
  {
   "cell_type": "code",
   "execution_count": 8,
   "id": "39f22320",
   "metadata": {},
   "outputs": [
    {
     "ename": "ModuleNotFoundError",
     "evalue": "No module named 'wapiti'",
     "output_type": "error",
     "traceback": [
      "\u001b[1;31m---------------------------------------------------------------------------\u001b[0m",
      "\u001b[1;31mModuleNotFoundError\u001b[0m                       Traceback (most recent call last)",
      "Input \u001b[1;32mIn [8]\u001b[0m, in \u001b[0;36m<cell line: 15>\u001b[1;34m()\u001b[0m\n\u001b[0;32m     12\u001b[0m lemmatizer \u001b[38;5;241m=\u001b[39m Lemmatizer()\n\u001b[0;32m     13\u001b[0m lemmatizer\u001b[38;5;241m.\u001b[39mlemmatize(\u001b[38;5;124m'\u001b[39m\u001b[38;5;124mمی‌روم\u001b[39m\u001b[38;5;124m'\u001b[39m)\n\u001b[1;32m---> 15\u001b[0m tagger \u001b[38;5;241m=\u001b[39m \u001b[43mPOSTagger\u001b[49m\u001b[43m(\u001b[49m\u001b[43mmodel\u001b[49m\u001b[38;5;241;43m=\u001b[39;49m\u001b[38;5;124;43m'\u001b[39;49m\u001b[38;5;124;43mresources/postagger.model\u001b[39;49m\u001b[38;5;124;43m'\u001b[39;49m\u001b[43m)\u001b[49m\n\u001b[0;32m     16\u001b[0m tagger\u001b[38;5;241m.\u001b[39mtag(word_tokenize(\u001b[38;5;124m'\u001b[39m\u001b[38;5;124mما بسیار کتاب می‌خوانیم\u001b[39m\u001b[38;5;124m'\u001b[39m))\n\u001b[0;32m     18\u001b[0m chunker \u001b[38;5;241m=\u001b[39m Chunker(model\u001b[38;5;241m=\u001b[39m\u001b[38;5;124m'\u001b[39m\u001b[38;5;124mresources/chunker.model\u001b[39m\u001b[38;5;124m'\u001b[39m)\n",
      "File \u001b[1;32m~\\Anaconda3\\lib\\site-packages\\hazm\\SequenceTagger.py:22\u001b[0m, in \u001b[0;36mSequenceTagger.__init__\u001b[1;34m(self, patterns, **options)\u001b[0m\n\u001b[0;32m     21\u001b[0m \u001b[38;5;28;01mdef\u001b[39;00m \u001b[38;5;21m__init__\u001b[39m(\u001b[38;5;28mself\u001b[39m, patterns\u001b[38;5;241m=\u001b[39m[], \u001b[38;5;241m*\u001b[39m\u001b[38;5;241m*\u001b[39moptions):\n\u001b[1;32m---> 22\u001b[0m \t\u001b[38;5;28;01mfrom\u001b[39;00m \u001b[38;5;21;01mwapiti\u001b[39;00m \u001b[38;5;28;01mimport\u001b[39;00m Model\n\u001b[0;32m     23\u001b[0m \t\u001b[38;5;28mself\u001b[39m\u001b[38;5;241m.\u001b[39mmodel \u001b[38;5;241m=\u001b[39m Model(patterns\u001b[38;5;241m=\u001b[39m\u001b[38;5;124m'\u001b[39m\u001b[38;5;130;01m\\n\u001b[39;00m\u001b[38;5;124m'\u001b[39m\u001b[38;5;241m.\u001b[39mjoin(patterns), \u001b[38;5;241m*\u001b[39m\u001b[38;5;241m*\u001b[39moptions)\n",
      "\u001b[1;31mModuleNotFoundError\u001b[0m: No module named 'wapiti'"
     ]
    }
   ],
   "source": [
    "from __future__ import unicode_literals\n",
    "from hazm import *\n",
    "\n",
    "normalizer = Normalizer()\n",
    "normalizer.normalize('اصلاح نويسه ها و استفاده از نیم فاصله پردازش را آسان مي كند')\n",
    "\n",
    "sent_tokenize('ما هم برای وصل کردن آمدیم! ولی برای پردازش، جدا بهتر نیست؟')\n",
    "word_tokenize('ولی برای پردازش، جدا بهتر نیست؟')\n",
    "\n",
    "stemmer = Stemmer()\n",
    "stemmer.stem('کتاب‌ها')\n",
    "lemmatizer = Lemmatizer()\n",
    "lemmatizer.lemmatize('می‌روم')\n",
    "\n",
    "tagger = POSTagger(model='resources/postagger.model')\n",
    "tagger.tag(word_tokenize('ما بسیار کتاب می‌خوانیم'))\n",
    "\n",
    "chunker = Chunker(model='resources/chunker.model')\n",
    "tagged = tagger.tag(word_tokenize('کتاب خواندن را دوست داریم'))\n",
    "tree2brackets(chunker.parse(tagged))\n",
    "\n",
    "parser = DependencyParser(tagger=tagger, lemmatizer=lemmatizer)\n",
    "parser.parse(word_tokenize('زنگ‌ها برای که به صدا درمآید؟'))"
   ]
  },
  {
   "cell_type": "code",
   "execution_count": 7,
   "id": "40552c47",
   "metadata": {},
   "outputs": [
    {
     "name": "stdout",
     "output_type": "stream",
     "text": [
      "Requirement already satisfied: hazm in c:\\users\\ebrahimpour.m\\anaconda3\\lib\\site-packages (0.7.0)\n",
      "Requirement already satisfied: nltk==3.3 in c:\\users\\ebrahimpour.m\\anaconda3\\lib\\site-packages (from hazm) (3.3)\n",
      "Requirement already satisfied: six in c:\\users\\ebrahimpour.m\\anaconda3\\lib\\site-packages (from nltk==3.3->hazm) (1.16.0)\n"
     ]
    }
   ],
   "source": [
    "!pip install hazm"
   ]
  },
  {
   "cell_type": "code",
   "execution_count": null,
   "id": "4bde3185",
   "metadata": {},
   "outputs": [],
   "source": []
  }
 ],
 "metadata": {
  "kernelspec": {
   "display_name": "Python 3 (ipykernel)",
   "language": "python",
   "name": "python3"
  },
  "language_info": {
   "codemirror_mode": {
    "name": "ipython",
    "version": 3
   },
   "file_extension": ".py",
   "mimetype": "text/x-python",
   "name": "python",
   "nbconvert_exporter": "python",
   "pygments_lexer": "ipython3",
   "version": "3.9.12"
  }
 },
 "nbformat": 4,
 "nbformat_minor": 5
}
