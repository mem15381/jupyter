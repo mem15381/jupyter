{
 "cells": [
  {
   "cell_type": "code",
   "execution_count": null,
   "id": "d0665eec",
   "metadata": {},
   "outputs": [],
   "source": [
    "!pip install KeyBERT"
   ]
  },
  {
   "cell_type": "code",
   "execution_count": 1,
   "id": "ec6b03ec",
   "metadata": {},
   "outputs": [],
   "source": [
    "from keybert import KeyBERT\n",
    "\n",
    "doc = \"\"\"\n",
    "         خرید و فروش محصولات فلزات رنگین ـ واردات و صادرات خودرو و قطعات خودرو ازجمله واردات اتومبیل های هیپریدی (برقی) ـ واردات و صادرات و خرید و فروش محصولات پتروشیمی (گرانول) \n",
    "      \"\"\"\n",
    "kw_model = KeyBERT()\n",
    "keywords = kw_model.extract_keywords(doc)"
   ]
  },
  {
   "cell_type": "code",
   "execution_count": 7,
   "id": "5864f30c",
   "metadata": {},
   "outputs": [
    {
     "data": {
      "text/plain": [
       "[('خرید فروش محصولات', 0.6996),\n",
       " ('واردات صادرات خرید', 0.6924),\n",
       " ('خرید فروش', 0.6694),\n",
       " ('واردات صادرات خودرو', 0.6634),\n",
       " ('خودرو ازجمله واردات', 0.6501)]"
      ]
     },
     "execution_count": 7,
     "metadata": {},
     "output_type": "execute_result"
    }
   ],
   "source": [
    "kw_model.extract_keywords(doc, keyphrase_ngram_range=(1, 3), stop_words=None)"
   ]
  },
  {
   "cell_type": "code",
   "execution_count": 8,
   "id": "93420f3b",
   "metadata": {},
   "outputs": [],
   "source": [
    "from keybert import KeyBERT\n",
    "\n",
    "doc = \"\"\"\n",
    "        طراحی و اجرای پروژه های ساختمانی، ویلایی،دکوراسیون داخلی،محوطه سازی، بازسازی،بافت فرسوده. درصورت لزوم پس از اخذ مجوزهای لازم از مراجع ذیربط مدت فعالیت  از\n",
    "خرید، فروش، بسته بندی، طراحی، خدمات پس از فروش، تهیه، تولید، واردات و صادرات انواع چینی های بهداشتی وآجر نسوز و مواد اولیه و ملزومات لازم جهت تولیدات چینی شرکت، طراحی و تولید قالب چینی های بهداشتی، تهیه، خرید، فروش، نصب و راه اندازی، واردات و صادرات ماشین آلات لازم جهت خطوط تولید صنایع چینی و قالبهای چینی، خرید، فروش، بسته بندی، طراحی، خدمات پس از فروش، تهیه، تولید، واردات و صادرات کلیه کالاهای مجاز بازرگانی، اخذ نمایندگی از شرکت های داخلی و خارجی، اعطای نمایندگی به سایر اشخاص حقیقی و حقوقی، تشکیل دفاتر نمایندگی، در داخل و خارج از کشور، شرکت و مشارکت در سایر شرکتهای داخلی و خارجی از طریق انعقاد قرار داد، شرکت در مناقصات و مزایدات خصوصی و دولتی، اخذ وام و اعتبار از بانک ها و موسسات مالی و اعتباری، شرکت و مشارکت در سایر شرکت های داخلی و خارجی از طریق تشکیل کنسرسیوم و یا با انعقاد قرار داد ها، ترخیص کالا و سفارش کالا ازگمرکات، درصورت لزوم پس از اخذ مجوزهای لازم از مراجع ذیربط مدت فعالیت  از\n",
    "      \"\"\"\n",
    "kw_model = KeyBERT()\n",
    "keywords = kw_model.extract_keywords(doc)"
   ]
  },
  {
   "cell_type": "code",
   "execution_count": 9,
   "id": "697ed157",
   "metadata": {},
   "outputs": [
    {
     "data": {
      "text/plain": [
       "[('بازرگانی اخذ نمایندگی', 0.4438),\n",
       " ('ساختمانی ویلایی دکوراسیون', 0.4305),\n",
       " ('های ساختمانی ویلایی', 0.4262),\n",
       " ('ویلایی دکوراسیون داخلی', 0.3928),\n",
       " ('مجاز بازرگانی اخذ', 0.3831)]"
      ]
     },
     "execution_count": 9,
     "metadata": {},
     "output_type": "execute_result"
    }
   ],
   "source": [
    "kw_model.extract_keywords(doc, keyphrase_ngram_range=(1, 3), stop_words=None)"
   ]
  },
  {
   "cell_type": "code",
   "execution_count": null,
   "id": "65796b32",
   "metadata": {},
   "outputs": [],
   "source": []
  }
 ],
 "metadata": {
  "kernelspec": {
   "display_name": "Python 3 (ipykernel)",
   "language": "python",
   "name": "python3"
  },
  "language_info": {
   "codemirror_mode": {
    "name": "ipython",
    "version": 3
   },
   "file_extension": ".py",
   "mimetype": "text/x-python",
   "name": "python",
   "nbconvert_exporter": "python",
   "pygments_lexer": "ipython3",
   "version": "3.9.12"
  }
 },
 "nbformat": 4,
 "nbformat_minor": 5
}
