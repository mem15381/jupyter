{
 "cells": [
  {
   "cell_type": "code",
   "execution_count": 6,
   "id": "9a062c36",
   "metadata": {},
   "outputs": [
    {
     "ename": "ImportError",
     "evalue": "DLL load failed while importing _swigfaiss: The specified module could not be found.",
     "output_type": "error",
     "traceback": [
      "\u001b[1;31m---------------------------------------------------------------------------\u001b[0m",
      "\u001b[1;31mImportError\u001b[0m                               Traceback (most recent call last)",
      "Input \u001b[1;32mIn [6]\u001b[0m, in \u001b[0;36m<cell line: 2>\u001b[1;34m()\u001b[0m\n\u001b[0;32m      1\u001b[0m \u001b[38;5;66;03m# Get started in a couple lines\u001b[39;00m\n\u001b[1;32m----> 2\u001b[0m \u001b[38;5;28;01mfrom\u001b[39;00m \u001b[38;5;21;01mtxtai\u001b[39;00m\u001b[38;5;21;01m.\u001b[39;00m\u001b[38;5;21;01membeddings\u001b[39;00m \u001b[38;5;28;01mimport\u001b[39;00m Embeddings\n\u001b[0;32m      4\u001b[0m embeddings \u001b[38;5;241m=\u001b[39m Embeddings({\u001b[38;5;124m\"\u001b[39m\u001b[38;5;124mpath\u001b[39m\u001b[38;5;124m\"\u001b[39m: \u001b[38;5;124m\"\u001b[39m\u001b[38;5;124msentence-transformers/all-MiniLM-L6-v2\u001b[39m\u001b[38;5;124m\"\u001b[39m})\n\u001b[0;32m      5\u001b[0m embeddings\u001b[38;5;241m.\u001b[39mindex([(\u001b[38;5;241m0\u001b[39m, \u001b[38;5;124m\"\u001b[39m\u001b[38;5;124mCorrect\u001b[39m\u001b[38;5;124m\"\u001b[39m, \u001b[38;5;28;01mNone\u001b[39;00m), (\u001b[38;5;241m1\u001b[39m, \u001b[38;5;124m\"\u001b[39m\u001b[38;5;124mNot what we hoped\u001b[39m\u001b[38;5;124m\"\u001b[39m, \u001b[38;5;28;01mNone\u001b[39;00m)])\n",
      "File \u001b[1;32m~\\Anaconda3\\lib\\site-packages\\txtai\\embeddings\\__init__.py:6\u001b[0m, in \u001b[0;36m<module>\u001b[1;34m\u001b[0m\n\u001b[0;32m      1\u001b[0m \u001b[38;5;124;03m\"\"\"\u001b[39;00m\n\u001b[0;32m      2\u001b[0m \u001b[38;5;124;03mEmbeddings imports\u001b[39;00m\n\u001b[0;32m      3\u001b[0m \u001b[38;5;124;03m\"\"\"\u001b[39;00m\n\u001b[0;32m      5\u001b[0m \u001b[38;5;28;01mfrom\u001b[39;00m \u001b[38;5;21;01m.\u001b[39;00m\u001b[38;5;21;01marchive\u001b[39;00m \u001b[38;5;28;01mimport\u001b[39;00m Archive\n\u001b[1;32m----> 6\u001b[0m \u001b[38;5;28;01mfrom\u001b[39;00m \u001b[38;5;21;01m.\u001b[39;00m\u001b[38;5;21;01mbase\u001b[39;00m \u001b[38;5;28;01mimport\u001b[39;00m Embeddings\n\u001b[0;32m      7\u001b[0m \u001b[38;5;28;01mfrom\u001b[39;00m \u001b[38;5;21;01m.\u001b[39;00m\u001b[38;5;21;01mcloud\u001b[39;00m \u001b[38;5;28;01mimport\u001b[39;00m Cloud\n\u001b[0;32m      8\u001b[0m \u001b[38;5;28;01mfrom\u001b[39;00m \u001b[38;5;21;01m.\u001b[39;00m\u001b[38;5;21;01mdocuments\u001b[39;00m \u001b[38;5;28;01mimport\u001b[39;00m Documents\n",
      "File \u001b[1;32m~\\Anaconda3\\lib\\site-packages\\txtai\\embeddings\\base.py:15\u001b[0m, in \u001b[0;36m<module>\u001b[1;34m\u001b[0m\n\u001b[0;32m     11\u001b[0m \u001b[38;5;28;01mimport\u001b[39;00m \u001b[38;5;21;01mnumpy\u001b[39;00m \u001b[38;5;28;01mas\u001b[39;00m \u001b[38;5;21;01mnp\u001b[39;00m\n\u001b[0;32m     13\u001b[0m \u001b[38;5;28;01mfrom\u001b[39;00m \u001b[38;5;21;01m.\u001b[39;00m\u001b[38;5;21;01m.\u001b[39;00m \u001b[38;5;28;01mimport\u001b[39;00m __pickle__\n\u001b[1;32m---> 15\u001b[0m \u001b[38;5;28;01mfrom\u001b[39;00m \u001b[38;5;21;01m.\u001b[39;00m\u001b[38;5;21;01m.\u001b[39;00m\u001b[38;5;21;01mann\u001b[39;00m \u001b[38;5;28;01mimport\u001b[39;00m ANNFactory\n\u001b[0;32m     16\u001b[0m \u001b[38;5;28;01mfrom\u001b[39;00m \u001b[38;5;21;01m.\u001b[39;00m\u001b[38;5;21;01m.\u001b[39;00m\u001b[38;5;21;01mdatabase\u001b[39;00m \u001b[38;5;28;01mimport\u001b[39;00m DatabaseFactory\n\u001b[0;32m     17\u001b[0m \u001b[38;5;28;01mfrom\u001b[39;00m \u001b[38;5;21;01m.\u001b[39;00m\u001b[38;5;21;01m.\u001b[39;00m\u001b[38;5;21;01mscoring\u001b[39;00m \u001b[38;5;28;01mimport\u001b[39;00m ScoringFactory\n",
      "File \u001b[1;32m~\\Anaconda3\\lib\\site-packages\\txtai\\ann\\__init__.py:7\u001b[0m, in \u001b[0;36m<module>\u001b[1;34m\u001b[0m\n\u001b[0;32m      5\u001b[0m \u001b[38;5;28;01mfrom\u001b[39;00m \u001b[38;5;21;01m.\u001b[39;00m\u001b[38;5;21;01mannoy\u001b[39;00m \u001b[38;5;28;01mimport\u001b[39;00m Annoy\n\u001b[0;32m      6\u001b[0m \u001b[38;5;28;01mfrom\u001b[39;00m \u001b[38;5;21;01m.\u001b[39;00m\u001b[38;5;21;01mbase\u001b[39;00m \u001b[38;5;28;01mimport\u001b[39;00m ANN\n\u001b[1;32m----> 7\u001b[0m \u001b[38;5;28;01mfrom\u001b[39;00m \u001b[38;5;21;01m.\u001b[39;00m\u001b[38;5;21;01mfactory\u001b[39;00m \u001b[38;5;28;01mimport\u001b[39;00m ANNFactory\n\u001b[0;32m      8\u001b[0m \u001b[38;5;28;01mfrom\u001b[39;00m \u001b[38;5;21;01m.\u001b[39;00m\u001b[38;5;21;01mfaiss\u001b[39;00m \u001b[38;5;28;01mimport\u001b[39;00m Faiss\n\u001b[0;32m      9\u001b[0m \u001b[38;5;28;01mfrom\u001b[39;00m \u001b[38;5;21;01m.\u001b[39;00m\u001b[38;5;21;01mhnsw\u001b[39;00m \u001b[38;5;28;01mimport\u001b[39;00m HNSW\n",
      "File \u001b[1;32m~\\Anaconda3\\lib\\site-packages\\txtai\\ann\\factory.py:6\u001b[0m, in \u001b[0;36m<module>\u001b[1;34m\u001b[0m\n\u001b[0;32m      1\u001b[0m \u001b[38;5;124;03m\"\"\"\u001b[39;00m\n\u001b[0;32m      2\u001b[0m \u001b[38;5;124;03mFactory module\u001b[39;00m\n\u001b[0;32m      3\u001b[0m \u001b[38;5;124;03m\"\"\"\u001b[39;00m\n\u001b[0;32m      5\u001b[0m \u001b[38;5;28;01mfrom\u001b[39;00m \u001b[38;5;21;01m.\u001b[39;00m\u001b[38;5;21;01mannoy\u001b[39;00m \u001b[38;5;28;01mimport\u001b[39;00m Annoy, ANNOY\n\u001b[1;32m----> 6\u001b[0m \u001b[38;5;28;01mfrom\u001b[39;00m \u001b[38;5;21;01m.\u001b[39;00m\u001b[38;5;21;01mfaiss\u001b[39;00m \u001b[38;5;28;01mimport\u001b[39;00m Faiss\n\u001b[0;32m      7\u001b[0m \u001b[38;5;28;01mfrom\u001b[39;00m \u001b[38;5;21;01m.\u001b[39;00m\u001b[38;5;21;01mhnsw\u001b[39;00m \u001b[38;5;28;01mimport\u001b[39;00m HNSW, HNSWLIB\n\u001b[0;32m     10\u001b[0m \u001b[38;5;28;01mclass\u001b[39;00m \u001b[38;5;21;01mANNFactory\u001b[39;00m:\n",
      "File \u001b[1;32m~\\Anaconda3\\lib\\site-packages\\txtai\\ann\\faiss.py:9\u001b[0m, in \u001b[0;36m<module>\u001b[1;34m\u001b[0m\n\u001b[0;32m      5\u001b[0m \u001b[38;5;28;01mimport\u001b[39;00m \u001b[38;5;21;01mmath\u001b[39;00m\n\u001b[0;32m      7\u001b[0m \u001b[38;5;28;01mimport\u001b[39;00m \u001b[38;5;21;01mnumpy\u001b[39;00m \u001b[38;5;28;01mas\u001b[39;00m \u001b[38;5;21;01mnp\u001b[39;00m\n\u001b[1;32m----> 9\u001b[0m \u001b[38;5;28;01mfrom\u001b[39;00m \u001b[38;5;21;01mfaiss\u001b[39;00m \u001b[38;5;28;01mimport\u001b[39;00m index_factory, IO_FLAG_MMAP, METRIC_INNER_PRODUCT, read_index, write_index\n\u001b[0;32m     11\u001b[0m \u001b[38;5;28;01mfrom\u001b[39;00m \u001b[38;5;21;01m.\u001b[39;00m\u001b[38;5;21;01mbase\u001b[39;00m \u001b[38;5;28;01mimport\u001b[39;00m ANN\n\u001b[0;32m     14\u001b[0m \u001b[38;5;28;01mclass\u001b[39;00m \u001b[38;5;21;01mFaiss\u001b[39;00m(ANN):\n",
      "File \u001b[1;32m~\\Anaconda3\\lib\\site-packages\\faiss\\__init__.py:51\u001b[0m, in \u001b[0;36m<module>\u001b[1;34m\u001b[0m\n\u001b[0;32m     48\u001b[0m \u001b[38;5;28;01mimport\u001b[39;00m \u001b[38;5;21;01mwarnings\u001b[39;00m\n\u001b[0;32m     50\u001b[0m \u001b[38;5;66;03m# We import * so that the symbol foo can be accessed as faiss.foo.\u001b[39;00m\n\u001b[1;32m---> 51\u001b[0m \u001b[38;5;28;01mfrom\u001b[39;00m \u001b[38;5;21;01m.\u001b[39;00m\u001b[38;5;21;01mloader\u001b[39;00m \u001b[38;5;28;01mimport\u001b[39;00m \u001b[38;5;241m*\u001b[39m\n\u001b[0;32m     54\u001b[0m __version__ \u001b[38;5;241m=\u001b[39m \u001b[38;5;124m\"\u001b[39m\u001b[38;5;132;01m%d\u001b[39;00m\u001b[38;5;124m.\u001b[39m\u001b[38;5;132;01m%d\u001b[39;00m\u001b[38;5;124m.\u001b[39m\u001b[38;5;132;01m%d\u001b[39;00m\u001b[38;5;124m\"\u001b[39m \u001b[38;5;241m%\u001b[39m (FAISS_VERSION_MAJOR,\n\u001b[0;32m     55\u001b[0m                             FAISS_VERSION_MINOR,\n\u001b[0;32m     56\u001b[0m                             FAISS_VERSION_PATCH)\n\u001b[0;32m     58\u001b[0m \u001b[38;5;66;03m##################################################################\u001b[39;00m\n\u001b[0;32m     59\u001b[0m \u001b[38;5;66;03m# The functions below add or replace some methods for classes\u001b[39;00m\n\u001b[0;32m     60\u001b[0m \u001b[38;5;66;03m# this is to be able to pass in numpy arrays directly\u001b[39;00m\n\u001b[0;32m     61\u001b[0m \u001b[38;5;66;03m# The C++ version of the classnames will be suffixed with _c\u001b[39;00m\n\u001b[0;32m     62\u001b[0m \u001b[38;5;66;03m##################################################################\u001b[39;00m\n",
      "File \u001b[1;32m~\\Anaconda3\\lib\\site-packages\\faiss\\loader.py:65\u001b[0m, in \u001b[0;36m<module>\u001b[1;34m\u001b[0m\n\u001b[0;32m     62\u001b[0m \u001b[38;5;28;01mif\u001b[39;00m \u001b[38;5;129;01mnot\u001b[39;00m has_AVX2:\n\u001b[0;32m     63\u001b[0m     \u001b[38;5;66;03m# we import * so that the symbol X can be accessed as faiss.X\u001b[39;00m\n\u001b[0;32m     64\u001b[0m     logger\u001b[38;5;241m.\u001b[39minfo(\u001b[38;5;124m\"\u001b[39m\u001b[38;5;124mLoading faiss.\u001b[39m\u001b[38;5;124m\"\u001b[39m)\n\u001b[1;32m---> 65\u001b[0m     \u001b[38;5;28;01mfrom\u001b[39;00m \u001b[38;5;21;01m.\u001b[39;00m\u001b[38;5;21;01mswigfaiss\u001b[39;00m \u001b[38;5;28;01mimport\u001b[39;00m \u001b[38;5;241m*\u001b[39m\n\u001b[0;32m     66\u001b[0m     logger\u001b[38;5;241m.\u001b[39minfo(\u001b[38;5;124m\"\u001b[39m\u001b[38;5;124mSuccessfully loaded faiss.\u001b[39m\u001b[38;5;124m\"\u001b[39m)\n",
      "File \u001b[1;32m~\\Anaconda3\\lib\\site-packages\\faiss\\swigfaiss.py:13\u001b[0m, in \u001b[0;36m<module>\u001b[1;34m\u001b[0m\n\u001b[0;32m     11\u001b[0m \u001b[38;5;66;03m# Import the low-level C/C++ module\u001b[39;00m\n\u001b[0;32m     12\u001b[0m \u001b[38;5;28;01mif\u001b[39;00m __package__ \u001b[38;5;129;01mor\u001b[39;00m \u001b[38;5;124m\"\u001b[39m\u001b[38;5;124m.\u001b[39m\u001b[38;5;124m\"\u001b[39m \u001b[38;5;129;01min\u001b[39;00m \u001b[38;5;18m__name__\u001b[39m:\n\u001b[1;32m---> 13\u001b[0m     \u001b[38;5;28;01mfrom\u001b[39;00m \u001b[38;5;21;01m.\u001b[39;00m \u001b[38;5;28;01mimport\u001b[39;00m _swigfaiss\n\u001b[0;32m     14\u001b[0m \u001b[38;5;28;01melse\u001b[39;00m:\n\u001b[0;32m     15\u001b[0m     \u001b[38;5;28;01mimport\u001b[39;00m \u001b[38;5;21;01m_swigfaiss\u001b[39;00m\n",
      "\u001b[1;31mImportError\u001b[0m: DLL load failed while importing _swigfaiss: The specified module could not be found."
     ]
    }
   ],
   "source": [
    "# Get started in a couple lines\n",
    "from txtai.embeddings import Embeddings\n",
    "\n",
    "embeddings = Embeddings({\"path\": \"sentence-transformers/all-MiniLM-L6-v2\"})\n",
    "embeddings.index([(0, \"Correct\", None), (1, \"Not what we hoped\", None)])\n",
    "embeddings.search(\"positive\", 1)\n",
    "#[(0, 0.2986203730106354)]"
   ]
  },
  {
   "cell_type": "code",
   "execution_count": 4,
   "id": "e09c91b4",
   "metadata": {},
   "outputs": [
    {
     "name": "stdout",
     "output_type": "stream",
     "text": [
      "Collecting txtai\n",
      "  Using cached txtai-4.6.0-py3-none-any.whl (135 kB)\n",
      "Collecting faiss-cpu>=1.7.1.post2\n",
      "  Using cached faiss_cpu-1.7.2-cp39-cp39-win_amd64.whl (9.9 MB)\n",
      "Requirement already satisfied: transformers>=4.20.1 in c:\\users\\ebrahimpour.m\\anaconda3\\lib\\site-packages (from txtai) (4.20.1)\n",
      "Requirement already satisfied: numpy>=1.18.4 in c:\\users\\ebrahimpour.m\\anaconda3\\lib\\site-packages (from txtai) (1.21.5)\n",
      "Requirement already satisfied: torch>=1.6.0 in c:\\users\\ebrahimpour.m\\anaconda3\\lib\\site-packages (from txtai) (1.12.0)\n",
      "Requirement already satisfied: pyyaml>=5.3 in c:\\users\\ebrahimpour.m\\anaconda3\\lib\\site-packages (from txtai) (5.4.1)\n",
      "Requirement already satisfied: typing-extensions in c:\\users\\ebrahimpour.m\\anaconda3\\lib\\site-packages (from torch>=1.6.0->txtai) (4.1.1)\n",
      "Requirement already satisfied: huggingface-hub<1.0,>=0.1.0 in c:\\users\\ebrahimpour.m\\anaconda3\\lib\\site-packages (from transformers>=4.20.1->txtai) (0.8.1)\n",
      "Requirement already satisfied: requests in c:\\users\\ebrahimpour.m\\anaconda3\\lib\\site-packages (from transformers>=4.20.1->txtai) (2.27.1)\n",
      "Requirement already satisfied: filelock in c:\\users\\ebrahimpour.m\\anaconda3\\lib\\site-packages (from transformers>=4.20.1->txtai) (3.6.0)\n",
      "Requirement already satisfied: tqdm>=4.27 in c:\\users\\ebrahimpour.m\\anaconda3\\lib\\site-packages (from transformers>=4.20.1->txtai) (4.64.0)\n",
      "Requirement already satisfied: regex!=2019.12.17 in c:\\users\\ebrahimpour.m\\anaconda3\\lib\\site-packages (from transformers>=4.20.1->txtai) (2022.3.15)\n",
      "Requirement already satisfied: tokenizers!=0.11.3,<0.13,>=0.11.1 in c:\\users\\ebrahimpour.m\\anaconda3\\lib\\site-packages (from transformers>=4.20.1->txtai) (0.12.1)\n",
      "Requirement already satisfied: packaging>=20.0 in c:\\users\\ebrahimpour.m\\anaconda3\\lib\\site-packages (from transformers>=4.20.1->txtai) (21.3)\n",
      "Requirement already satisfied: pyparsing!=3.0.5,>=2.0.2 in c:\\users\\ebrahimpour.m\\anaconda3\\lib\\site-packages (from packaging>=20.0->transformers>=4.20.1->txtai) (3.0.4)\n",
      "Requirement already satisfied: colorama in c:\\users\\ebrahimpour.m\\anaconda3\\lib\\site-packages (from tqdm>=4.27->transformers>=4.20.1->txtai) (0.4.4)\n",
      "Requirement already satisfied: idna<4,>=2.5 in c:\\users\\ebrahimpour.m\\anaconda3\\lib\\site-packages (from requests->transformers>=4.20.1->txtai) (3.3)\n",
      "Requirement already satisfied: urllib3<1.27,>=1.21.1 in c:\\users\\ebrahimpour.m\\anaconda3\\lib\\site-packages (from requests->transformers>=4.20.1->txtai) (1.26.9)\n",
      "Requirement already satisfied: charset-normalizer~=2.0.0 in c:\\users\\ebrahimpour.m\\anaconda3\\lib\\site-packages (from requests->transformers>=4.20.1->txtai) (2.0.4)\n",
      "Requirement already satisfied: certifi>=2017.4.17 in c:\\users\\ebrahimpour.m\\anaconda3\\lib\\site-packages (from requests->transformers>=4.20.1->txtai) (2021.10.8)\n",
      "Installing collected packages: faiss-cpu, txtai\n",
      "Successfully installed faiss-cpu-1.7.2 txtai-4.6.0\n"
     ]
    }
   ],
   "source": [
    "!pip install txtai"
   ]
  },
  {
   "cell_type": "code",
   "execution_count": null,
   "id": "ecac8507",
   "metadata": {},
   "outputs": [],
   "source": []
  }
 ],
 "metadata": {
  "kernelspec": {
   "display_name": "Python 3 (ipykernel)",
   "language": "python",
   "name": "python3"
  },
  "language_info": {
   "codemirror_mode": {
    "name": "ipython",
    "version": 3
   },
   "file_extension": ".py",
   "mimetype": "text/x-python",
   "name": "python",
   "nbconvert_exporter": "python",
   "pygments_lexer": "ipython3",
   "version": "3.9.12"
  }
 },
 "nbformat": 4,
 "nbformat_minor": 5
}
