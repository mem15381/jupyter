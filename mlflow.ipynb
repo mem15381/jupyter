{
 "cells": [
  {
   "cell_type": "code",
   "execution_count": 1,
   "id": "9223416b-a0bb-4498-a7b6-c6dd50803eec",
   "metadata": {},
   "outputs": [
    {
     "name": "stdout",
     "output_type": "stream",
     "text": [
      "Defaulting to user installation because normal site-packages is not writeable\n",
      "Requirement already satisfied: mlflow in /home/mahdi/.local/lib/python3.9/site-packages (2.9.0)\n",
      "Requirement already satisfied: click<9,>=7.0 in /home/mahdi/.local/lib/python3.9/site-packages (from mlflow) (8.1.7)\n",
      "Requirement already satisfied: cloudpickle<4 in /home/mahdi/.local/lib/python3.9/site-packages (from mlflow) (3.0.0)\n",
      "Requirement already satisfied: databricks-cli<1,>=0.8.7 in /home/mahdi/.local/lib/python3.9/site-packages (from mlflow) (0.18.0)\n",
      "Requirement already satisfied: entrypoints<1 in /home/mahdi/.local/lib/python3.9/site-packages (from mlflow) (0.4)\n",
      "Requirement already satisfied: gitpython<4,>=2.1.0 in /home/mahdi/.local/lib/python3.9/site-packages (from mlflow) (3.1.40)\n",
      "Requirement already satisfied: pyyaml<7,>=5.1 in /home/mahdi/.local/lib/python3.9/site-packages (from mlflow) (6.0)\n",
      "Requirement already satisfied: protobuf<5,>=3.12.0 in /home/mahdi/.local/lib/python3.9/site-packages (from mlflow) (4.25.0)\n",
      "Requirement already satisfied: pytz<2024 in /home/mahdi/.local/lib/python3.9/site-packages (from mlflow) (2023.3)\n",
      "Requirement already satisfied: requests<3,>=2.17.3 in /home/mahdi/.local/lib/python3.9/site-packages (from mlflow) (2.31.0)\n",
      "Requirement already satisfied: packaging<24 in /home/mahdi/.local/lib/python3.9/site-packages (from mlflow) (23.1)\n",
      "Requirement already satisfied: importlib-metadata!=4.7.0,<8,>=3.7.0 in /home/mahdi/.local/lib/python3.9/site-packages (from mlflow) (6.11.0)\n",
      "Requirement already satisfied: sqlparse<1,>=0.4.0 in /home/mahdi/.local/lib/python3.9/site-packages (from mlflow) (0.4.4)\n",
      "Requirement already satisfied: alembic!=1.10.0,<2 in /home/mahdi/.local/lib/python3.9/site-packages (from mlflow) (1.11.1)\n",
      "Requirement already satisfied: docker<7,>=4.0.0 in /home/mahdi/.local/lib/python3.9/site-packages (from mlflow) (6.1.3)\n",
      "Requirement already satisfied: Flask<4 in /home/mahdi/.local/lib/python3.9/site-packages (from mlflow) (2.2.5)\n",
      "Requirement already satisfied: numpy<2 in /home/mahdi/.local/lib/python3.9/site-packages (from mlflow) (1.24.2)\n",
      "Requirement already satisfied: scipy<2 in /home/mahdi/.local/lib/python3.9/site-packages (from mlflow) (1.11.1)\n",
      "Requirement already satisfied: pandas<3 in /home/mahdi/.local/lib/python3.9/site-packages (from mlflow) (2.1.3)\n",
      "Requirement already satisfied: querystring-parser<2 in /home/mahdi/.local/lib/python3.9/site-packages (from mlflow) (1.2.4)\n",
      "Requirement already satisfied: sqlalchemy<3,>=1.4.0 in /home/mahdi/.local/lib/python3.9/site-packages (from mlflow) (2.0.23)\n",
      "Requirement already satisfied: scikit-learn<2 in /home/mahdi/.local/lib/python3.9/site-packages (from mlflow) (1.3.2)\n",
      "Requirement already satisfied: pyarrow<15,>=4.0.0 in /home/mahdi/.local/lib/python3.9/site-packages (from mlflow) (11.0.0)\n",
      "Requirement already satisfied: markdown<4,>=3.3 in /home/mahdi/.local/lib/python3.9/site-packages (from mlflow) (3.4.3)\n",
      "Requirement already satisfied: matplotlib<4 in /home/mahdi/.local/lib/python3.9/site-packages (from mlflow) (3.7.1)\n",
      "Requirement already satisfied: gunicorn<22 in /home/mahdi/.local/lib/python3.9/site-packages (from mlflow) (20.1.0)\n",
      "Requirement already satisfied: Jinja2<4,>=2.11 in /home/mahdi/.local/lib/python3.9/site-packages (from mlflow) (3.1.2)\n",
      "Requirement already satisfied: Mako in /home/mahdi/.local/lib/python3.9/site-packages (from alembic!=1.10.0,<2->mlflow) (1.2.4)\n",
      "Requirement already satisfied: typing-extensions>=4 in /home/mahdi/.local/lib/python3.9/site-packages (from alembic!=1.10.0,<2->mlflow) (4.8.0)\n",
      "Requirement already satisfied: pyjwt>=1.7.0 in /home/mahdi/.local/lib/python3.9/site-packages (from databricks-cli<1,>=0.8.7->mlflow) (2.7.0)\n",
      "Requirement already satisfied: oauthlib>=3.1.0 in /home/mahdi/.local/lib/python3.9/site-packages (from databricks-cli<1,>=0.8.7->mlflow) (3.2.2)\n",
      "Requirement already satisfied: tabulate>=0.7.7 in /home/mahdi/.local/lib/python3.9/site-packages (from databricks-cli<1,>=0.8.7->mlflow) (0.9.0)\n",
      "Requirement already satisfied: six>=1.10.0 in /home/mahdi/.local/lib/python3.9/site-packages (from databricks-cli<1,>=0.8.7->mlflow) (1.16.0)\n",
      "Requirement already satisfied: urllib3<3,>=1.26.7 in /home/mahdi/.local/lib/python3.9/site-packages (from databricks-cli<1,>=0.8.7->mlflow) (1.26.15)\n",
      "Requirement already satisfied: websocket-client>=0.32.0 in /home/mahdi/.local/lib/python3.9/site-packages (from docker<7,>=4.0.0->mlflow) (1.6.4)\n",
      "Requirement already satisfied: Werkzeug>=2.2.2 in /home/mahdi/.local/lib/python3.9/site-packages (from Flask<4->mlflow) (2.2.3)\n",
      "Requirement already satisfied: itsdangerous>=2.0 in /home/mahdi/.local/lib/python3.9/site-packages (from Flask<4->mlflow) (2.1.2)\n",
      "Requirement already satisfied: gitdb<5,>=4.0.1 in /home/mahdi/.local/lib/python3.9/site-packages (from gitpython<4,>=2.1.0->mlflow) (4.0.11)\n",
      "Requirement already satisfied: setuptools>=3.0 in /home/mahdi/.local/lib/python3.9/site-packages (from gunicorn<22->mlflow) (68.0.0)\n",
      "Requirement already satisfied: zipp>=0.5 in /home/mahdi/.local/lib/python3.9/site-packages (from importlib-metadata!=4.7.0,<8,>=3.7.0->mlflow) (3.15.0)\n",
      "Requirement already satisfied: MarkupSafe>=2.0 in /home/mahdi/.local/lib/python3.9/site-packages (from Jinja2<4,>=2.11->mlflow) (2.1.3)\n",
      "Requirement already satisfied: contourpy>=1.0.1 in /home/mahdi/.local/lib/python3.9/site-packages (from matplotlib<4->mlflow) (1.1.0)\n",
      "Requirement already satisfied: cycler>=0.10 in /home/mahdi/.local/lib/python3.9/site-packages (from matplotlib<4->mlflow) (0.11.0)\n",
      "Requirement already satisfied: fonttools>=4.22.0 in /home/mahdi/.local/lib/python3.9/site-packages (from matplotlib<4->mlflow) (4.40.0)\n",
      "Requirement already satisfied: kiwisolver>=1.0.1 in /home/mahdi/.local/lib/python3.9/site-packages (from matplotlib<4->mlflow) (1.4.4)\n",
      "Requirement already satisfied: pillow>=6.2.0 in /home/mahdi/.local/lib/python3.9/site-packages (from matplotlib<4->mlflow) (10.0.0)\n",
      "Requirement already satisfied: pyparsing>=2.3.1 in /home/mahdi/.local/lib/python3.9/site-packages (from matplotlib<4->mlflow) (3.1.0)\n",
      "Requirement already satisfied: python-dateutil>=2.7 in /home/mahdi/.local/lib/python3.9/site-packages (from matplotlib<4->mlflow) (2.8.2)\n",
      "Requirement already satisfied: importlib-resources>=3.2.0 in /home/mahdi/.local/lib/python3.9/site-packages (from matplotlib<4->mlflow) (5.12.0)\n",
      "Requirement already satisfied: tzdata>=2022.1 in /home/mahdi/.local/lib/python3.9/site-packages (from pandas<3->mlflow) (2023.3)\n",
      "Requirement already satisfied: charset-normalizer<4,>=2 in /home/mahdi/.local/lib/python3.9/site-packages (from requests<3,>=2.17.3->mlflow) (3.3.2)\n",
      "Requirement already satisfied: idna<4,>=2.5 in /home/mahdi/.local/lib/python3.9/site-packages (from requests<3,>=2.17.3->mlflow) (3.4)\n",
      "Requirement already satisfied: certifi>=2017.4.17 in /home/mahdi/.local/lib/python3.9/site-packages (from requests<3,>=2.17.3->mlflow) (2022.12.7)\n",
      "Requirement already satisfied: joblib>=1.1.1 in /home/mahdi/.local/lib/python3.9/site-packages (from scikit-learn<2->mlflow) (1.3.2)\n",
      "Requirement already satisfied: threadpoolctl>=2.0.0 in /home/mahdi/.local/lib/python3.9/site-packages (from scikit-learn<2->mlflow) (3.2.0)\n",
      "Requirement already satisfied: greenlet!=0.4.17 in /home/mahdi/.local/lib/python3.9/site-packages (from sqlalchemy<3,>=1.4.0->mlflow) (2.0.2)\n",
      "Requirement already satisfied: smmap<6,>=3.0.1 in /home/mahdi/.local/lib/python3.9/site-packages (from gitdb<5,>=4.0.1->gitpython<4,>=2.1.0->mlflow) (5.0.1)\n",
      "Defaulting to user installation because normal site-packages is not writeable\n",
      "Requirement already satisfied: scikit-learn in /home/mahdi/.local/lib/python3.9/site-packages (1.3.2)\n",
      "Requirement already satisfied: numpy<2.0,>=1.17.3 in /home/mahdi/.local/lib/python3.9/site-packages (from scikit-learn) (1.24.2)\n",
      "Requirement already satisfied: scipy>=1.5.0 in /home/mahdi/.local/lib/python3.9/site-packages (from scikit-learn) (1.11.1)\n",
      "Requirement already satisfied: joblib>=1.1.1 in /home/mahdi/.local/lib/python3.9/site-packages (from scikit-learn) (1.3.2)\n",
      "Requirement already satisfied: threadpoolctl>=2.0.0 in /home/mahdi/.local/lib/python3.9/site-packages (from scikit-learn) (3.2.0)\n"
     ]
    }
   ],
   "source": [
    "!pip3 install mlflow\n",
    "!pip3 install scikit-learn"
   ]
  },
  {
   "cell_type": "code",
   "execution_count": 2,
   "id": "7a3e8e04-568a-4fc7-b9ac-1e8f648e430a",
   "metadata": {},
   "outputs": [
    {
     "ename": "NameError",
     "evalue": "name 'mlflow' is not defined",
     "output_type": "error",
     "traceback": [
      "\u001b[0;31m---------------------------------------------------------------------------\u001b[0m",
      "\u001b[0;31mNameError\u001b[0m                                 Traceback (most recent call last)",
      "Cell \u001b[0;32mIn[2], line 1\u001b[0m\n\u001b[0;32m----> 1\u001b[0m \u001b[38;5;28;01mwith\u001b[39;00m \u001b[43mmlflow\u001b[49m\u001b[38;5;241m.\u001b[39mstart_run():\n\u001b[1;32m      2\u001b[0m     mlflow\u001b[38;5;241m.\u001b[39mlog_param(\u001b[38;5;124m\"\u001b[39m\u001b[38;5;124mALPHA\u001b[39m\u001b[38;5;124m\"\u001b[39m, alpha)\n\u001b[1;32m      3\u001b[0m     mlflow\u001b[38;5;241m.\u001b[39mlog_metric(\u001b[38;5;124m\"\u001b[39m\u001b[38;5;124mMSE\u001b[39m\u001b[38;5;124m\"\u001b[39m, mse)\n",
      "\u001b[0;31mNameError\u001b[0m: name 'mlflow' is not defined"
     ]
    }
   ],
   "source": [
    "with mlflow.start_run():\n",
    "    mlflow.log_param(\"ALPHA\", alpha)\n",
    "    mlflow.log_metric(\"MSE\", mse)\n",
    "    \n",
    "    search_runs()\n",
    "\n",
    "runs = mlflow.MlflowClient().search_runs(experiment_ids=\"13\", filter_string=\"_dev\")"
   ]
  },
  {
   "cell_type": "code",
   "execution_count": null,
   "id": "f8e6341d-a833-4a4e-8a3c-67dfc533c0eb",
   "metadata": {},
   "outputs": [],
   "source": []
  }
 ],
 "metadata": {
  "kernelspec": {
   "display_name": "Python 3 (ipykernel)",
   "language": "python",
   "name": "python3"
  },
  "language_info": {
   "codemirror_mode": {
    "name": "ipython",
    "version": 3
   },
   "file_extension": ".py",
   "mimetype": "text/x-python",
   "name": "python",
   "nbconvert_exporter": "python",
   "pygments_lexer": "ipython3",
   "version": "3.9.1"
  }
 },
 "nbformat": 4,
 "nbformat_minor": 5
}
